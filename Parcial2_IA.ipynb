{
  "nbformat": 4,
  "nbformat_minor": 0,
  "metadata": {
    "colab": {
      "provenance": [],
      "include_colab_link": true
    },
    "kernelspec": {
      "name": "python3",
      "display_name": "Python 3"
    },
    "language_info": {
      "name": "python"
    }
  },
  "cells": [
    {
      "cell_type": "markdown",
      "metadata": {
        "id": "view-in-github",
        "colab_type": "text"
      },
      "source": [
        "<a href=\"https://colab.research.google.com/github/luisFelipeEvilla/arboles-de-desicion-tasas-de-interes-por-creditos/blob/master/Parcial2_IA.ipynb\" target=\"_parent\"><img src=\"https://colab.research.google.com/assets/colab-badge.svg\" alt=\"Open In Colab\"/></a>"
      ]
    },
    {
      "cell_type": "code",
      "execution_count": null,
      "metadata": {
        "id": "qlQ4LNyvgQRx"
      },
      "outputs": [],
      "source": [
        "# Import the necessary libraries\n",
        "import numpy as np\n",
        "import pandas as pd\n",
        "from sklearn.model_selection import train_test_split\n",
        "from sklearn.tree import DecisionTreeClassifier\n",
        "from sklearn.metrics import accuracy_score, precision_score, recall_score, roc_curve, auc\n",
        "from sklearn.preprocessing import StandardScaler\n",
        "import matplotlib.pyplot as plt\n",
        "\n",
        "# Load the dataset\n",
        "data = pd.read_csv(\"https://www.datos.gov.co/api/views/u8ud-84pb/rows.csv?accessType=DOWNLOAD\")\n",
        "\n",
        "# Preprocess the dataset\n",
        "X = data.iloc[:, :-1].values\n",
        "y = data.iloc[:, -1].values\n",
        "X_train, X_test, y_train, y_test = train_test_split(X, y, test_size=0.3, random_state=42)\n",
        "\n",
        "scaler = StandardScaler()\n",
        "X_train = scaler.fit_transform(X_train)\n",
        "X_test = scaler.transform(X_test)\n",
        "\n",
        "# Build two decision trees based on Shannon entropy, each with a different depth level\n",
        "tree1 = DecisionTreeClassifier(criterion='entropy', max_depth=3, random_state=42)\n",
        "tree2 = DecisionTreeClassifier(criterion='entropy', max_depth=5, random_state=42)\n",
        "\n",
        "# Train the decision trees using the training set\n",
        "tree1.fit(X_train, y_train)\n",
        "tree2.fit(X_train, y_train)\n",
        "\n",
        "# Test the decision trees using the testing set and calculate the performance measurements\n",
        "y_pred1 = tree1.predict(X_test)\n",
        "y_pred2 = tree2.predict(X_test)\n",
        "\n",
        "acc1 = accuracy_score(y_test, y_pred1)\n",
        "acc2 = accuracy_score(y_test, y_pred2)\n",
        "\n",
        "prec1 = precision_score(y_test, y_pred1, average='weighted')\n",
        "prec2 = precision_score(y_test, y_pred2, average='weighted')\n",
        "\n",
        "rec1 = recall_score(y_test, y_pred1, average='weighted')\n",
        "rec2 = recall_score(y_test, y_pred2, average='weighted')\n",
        "\n",
        "fpr1, tpr1, _ = roc_curve(y_test, y_pred1)\n",
        "fpr2, tpr2, _ = roc_curve(y_test, y_pred2)\n",
        "\n",
        "roc_auc1 = auc(fpr1, tpr1)\n",
        "roc_auc2 = auc(fpr2, tpr2)\n",
        "\n",
        "# Print the performance measurements\n",
        "print(\"Decision Tree 1 (max_depth=3):\")\n",
        "print(\"Accuracy:\", acc1)\n",
        "print(\"Precision:\", prec1)\n",
        "print(\"Recall:\", rec1)\n",
        "print(\"ROC AUC:\", roc_auc1)\n",
        "\n",
        "print(\"\\nDecision Tree 2 (max_depth=5):\")\n",
        "print(\"Accuracy:\", acc2)\n",
        "print(\"Precision:\", prec2)\n",
        "print(\"Recall:\", rec2)\n",
        "print(\"ROC AUC:\", roc_auc2)\n",
        "\n",
        "# Plot the ROC curves\n",
        "plt.plot(fpr1, tpr1, label='Decision Tree 1 (AUC = %0.2f)' % roc_auc1)\n",
        "plt.plot(fpr2, tpr2, label='Decision Tree 2 (AUC = %0.2f)' % roc_auc2)\n",
        "plt.plot([0, 1], [0, 1],'r--')\n",
        "plt.xlim([0, 1])\n",
        "plt.ylim([0, 1])\n",
        "plt.xlabel('False Positive Rate')\n",
        "plt.ylabel('True Positive Rate')\n",
        "plt.title('Receiver Operating Characteristic (ROC) Curve')\n",
        "plt.legend(loc=\"lower right\")\n",
        "plt.show()"
      ]
    }
  ]
}